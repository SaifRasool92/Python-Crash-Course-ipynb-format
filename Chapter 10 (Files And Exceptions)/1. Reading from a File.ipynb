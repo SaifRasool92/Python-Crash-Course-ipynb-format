{
 "cells": [
  {
   "cell_type": "markdown",
   "metadata": {
    "id": "JxK8vYOTG_dI"
   },
   "source": [
    "## Now that you’ve mastered the basic skills you need to write organized programs that are easy to use, it’s time to think about making your programs even more relevant and usable. In this chapter you’ll learn to work with files so your programs can quickly analyze lots of data.\n",
    "\n",
    "You’ll learn to handle errors so your programs don’t crash when they\n",
    "encounter unexpected situations. You’ll learn about exceptions, which are\n",
    "special objects Python creates to manage errors that arise while a program\n",
    "is running. You’ll also learn about the json module, which allows you to save\n",
    "user data so it isn’t lost when your program stops running.\n",
    "\n",
    "Learning to work with files and save data will make your programs\n",
    "easier for people to use. Users will be able to choose what data to enter and\n",
    "when to enter it. People can run your program, do some work, and then\n",
    "close the program and pick up where they left off later. Learning to handle\n",
    "exceptions will help you deal with situations in which files don’t exist and\n",
    "deal with other problems that can cause your programs to crash. This will\n",
    "make your programs more robust when they encounter bad data, whether\n",
    "it comes from innocent mistakes or from malicious attempts to break your\n",
    "programs. With the skills you’ll learn in this chapter, you’ll make your programs more applicable, usable, and stable."
   ]
  },
  {
   "cell_type": "markdown",
   "metadata": {
    "id": "CiowpaoSHN3f"
   },
   "source": [
    "# **Reading from a File**\n",
    "An incredible amount of data is available in text files. Text files can contain weather data, traffic data, socioeconomic data, literary works, and\n",
    "more. Reading from a file is particularly useful in data analysis applications, but it’s also applicable to any situation in which you want to analyze or modify information stored in a file. For example, you can write a\n",
    "program that reads in the contents of a text file and rewrites the file with\n",
    "formatting that allows a browser to display it. ...\n",
    "\n",
    "When you want to work with the information in a text file, the first step\n",
    "is to read the file into memory. You can read the entire contents of a file, or\n",
    "you can work through the file one line at a time.\n",
    "### Reading an Entire File:\n",
    "To begin, we need a file with a few lines of text in it. Let’s start with a file\n",
    "that contains pi to 30 decimal places, with 10 decimal places per line:\n",
    "(pi_digits.txt)\n",
    "```\n",
    "3.1415926535\n",
    " 8979323846\n",
    " 2643383279\n",
    "```\n",
    "To try the following examples yourself, you can enter these lines in an\n",
    "editor and save the file as pi_digits.txt\n",
    "\n",
    "Here’s a program that opens this file, reads it, and prints the contents\n",
    "of the file to the screen:"
   ]
  },
  {
   "cell_type": "code",
   "execution_count": null,
   "metadata": {
    "id": "wxPCrzZGZWAh"
   },
   "outputs": [],
   "source": [
    "with open('pi_digits.txt') as file_object:\n",
    " contents = file_object.read()\n",
    "print(contents)"
   ]
  },
  {
   "cell_type": "markdown",
   "metadata": {
    "id": "Cg00DrbWZXb_"
   },
   "source": [
    "The first line of this program has a lot going on. Let’s start by looking\n",
    "at the open() function. To do any work with a file, even just printing its contents, you first need to open the file to access it. The open() function needs\n",
    "one argument: the name of the file you want to open. Python looks for this\n",
    "file in the directory where the program that’s currently being executed is\n",
    "stored. In this example, file_reader.py is currently running, so Python looks\n",
    "for pi_digits.txt in the directory where file_reader.py is stored. The open()\n",
    "function returns an object representing the file. Here, open('pi_digits.txt')\n",
    "returns an object representing pi_digits.txt. Python assigns this object to\n",
    "file_object, which we’ll work with later in the program.\n",
    "\n",
    "The keyword with closes the file once access to it is no longer needed.\n",
    "Notice how we call open() in this program but not close(). You could open\n",
    "and close the file by calling open() and close(), but if a bug in your program\n",
    "prevents the close() method from being executed, the file may never\n",
    "close. This may seem trivial, but improperly closed files can cause data\n",
    "to be lost or corrupted. And if you call close() too early in your program,\n",
    "you’ll find yourself trying to work with a closed file (a file you can’t access),\n",
    "which leads to more errors. It’s not always easy to know exactly when you\n",
    "should close a file, but with the structure shown here, Python will figure that\n",
    "out for you. All you have to do is open the file and work with it as desired,\n",
    "trusting that Python will close it automatically when the with block finishes\n",
    "execution.\n",
    "\n",
    "Once we have a file object representing pi_digits.txt, we use the read()\n",
    "method in the second line of our program to read the entire contents of\n",
    "the file and store it as one long string in contents. When we print the value\n",
    "of contents, we get the entire text file back:\n",
    "```\n",
    "3.1415926535\n",
    " 8979323846\n",
    " 2643383279\n",
    " ```\n",
    "The only difference between this output and the original file is the\n",
    "extra blank line at the end of the output. The blank line appears because\n",
    "read() returns an empty string when it reaches the end of the file; this empty\n",
    "string shows up as a blank line. If you want to remove the extra blank line,\n",
    "you can use rstrip() in the call to print():"
   ]
  },
  {
   "cell_type": "code",
   "execution_count": null,
   "metadata": {
    "id": "1L_Bh9ffZmBv"
   },
   "outputs": [],
   "source": [
    "with open('pi_digits.txt') as file_object:\n",
    " contents = file_object.read()\n",
    " print(contents.rstrip())"
   ]
  },
  {
   "cell_type": "markdown",
   "metadata": {
    "id": "UgngPtZiZnRX"
   },
   "source": [
    "Recall that Python’s rstrip() method removes, or strips, any whitespace\n",
    "characters from the right side of a string. Now the output matches the contents of the original file exactly:\n",
    "```\n",
    "3.1415926535\n",
    " 8979323846\n",
    " 2643383279\n",
    " ```"
   ]
  },
  {
   "cell_type": "markdown",
   "metadata": {
    "id": "W_tcQMSyZ25-"
   },
   "source": [
    "### File Paths\n",
    "When you pass a simple filename like pi_digits.txt to the open() function,\n",
    "Python looks in the directory where the file that’s currently being executed\n",
    "(that is, your .py program file) is stored.\n",
    "\n",
    "Sometimes, depending on how you organize your work, the file\n",
    "you want to open won’t be in the same directory as your program file.\n",
    "For example, you might store your program files in a folder called python_work; inside python_work, you might have another folder called\n",
    "text_files to distinguish your program files from the text files they’re\n",
    "manipulating. Even though text_files is in python_work, just passing open()\n",
    "the name of a file in text_files won’t work, because Python will only look\n",
    "in python_work and stop there; it won’t go on and look in text_files. To get\n",
    "Python to open files from a directory other than the one where your program file is stored, you need to provide a file path, which tells Python to\n",
    "look in a specific location on your system.\n",
    "\n",
    "Because text_files is inside python_work, you could use a relative file path\n",
    "to open a file from text_files. A relative file path tells Python to look for a given\n",
    "location relative to the directory where the currently running program file\n",
    "is stored. For example, you’d write:\n",
    "```\n",
    "with open('text_files/filename.txt') as file_object:\n",
    "```\n",
    "This line tells Python to look for the desired .txt file in the folder\n",
    "text_files and assumes that text_files is located inside python_work (which\n",
    "it is)."
   ]
  },
  {
   "cell_type": "markdown",
   "metadata": {
    "id": "zzorSe79aMPA"
   },
   "source": [
    "#### **Note**\n",
    "*Windows systems use a backslash (\\) instead of a forward slash (/) when displaying\n",
    "file paths, but you can still use forward slashes in your code.*\n"
   ]
  },
  {
   "cell_type": "markdown",
   "metadata": {
    "id": "fMo44qS8aQ_-"
   },
   "source": [
    "You can also tell Python exactly where the file is on your computer\n",
    "regardless of where the program that’s being executed is stored. This\n",
    "is called an absolute file path. You use an absolute path if a relative path\n",
    "doesn’t work. For instance, if you’ve put text_files in some folder other than\n",
    "python_work—say, a folder called other_files—then just passing open() the\n",
    "path 'text_files/filename.txt' won’t work because Python will only look\n",
    "for that location inside python_work. You’ll need to write out a full path to\n",
    "clarify where you want Python to look.\n",
    "\n",
    "Absolute paths are usually longer than relative paths, so it’s helpful to\n",
    "assign them to a variable and then pass that variable to open():\n",
    "```\n",
    "file_path = '/home/ehmatthes/other_files/text_files/filename.txt'\n",
    "with open(file_path) as file_object:\n",
    "```\n",
    "Using absolute paths, you can read files from any location on your system. For now it’s easiest to store files in the same directory as your program\n",
    "files or in a folder such as text_files within the directory that stores your program files."
   ]
  },
  {
   "cell_type": "markdown",
   "metadata": {
    "id": "8y-94K0Baew9"
   },
   "source": [
    "#### **Note**\n",
    "*If you try to use backslashes in a file path, you’ll get an error because the backslash is\n",
    "used to escape characters in strings. For example, in the path \"C:\\path\\to\\file.txt\",\n",
    "the sequence \\t is interpreted as a tab. If you need to use backslashes, you can escape\n",
    "each one in the path, like this: \"C:\\\\path\\\\to\\\\file.txt\".*"
   ]
  },
  {
   "cell_type": "markdown",
   "metadata": {
    "id": "tzRUT25jaka-"
   },
   "source": [
    "### Reading Line by Line\n",
    "When you’re reading a file, you’ll often want to examine each line of the file.\n",
    "You might be looking for certain information in the file, or you might want to\n",
    "modify the text in the file in some way. For example, you might want to read\n",
    "through a file of weather data and work with any line that includes the word\n",
    "sunny in the description of that day’s weather. In a news report, you might\n",
    "look for any line with the tag <headline> and rewrite that line with a specific\n",
    "kind of formatting.\n",
    "\n",
    "You can use a for loop on the file object to examine each line from a\n",
    "file one at a time:"
   ]
  },
  {
   "cell_type": "code",
   "execution_count": null,
   "metadata": {
    "id": "1bMJ85Bjaq8t"
   },
   "outputs": [],
   "source": [
    "filename = 'pi_digits.txt'    #1\n",
    "with open(filename) as file_object:   #2\n",
    "for line in file_object:    #3\n",
    " print(line)"
   ]
  },
  {
   "cell_type": "markdown",
   "metadata": {
    "id": "6cJuiARvax71"
   },
   "source": [
    "At **#1** we assign the name of the file we’re reading from to the variable\n",
    "filename. This is a common convention when working with files. Because\n",
    "the variable filename doesn’t represent the actual file—it’s just a string telling Python where to find the file—you can easily swap out 'pi_digits.txt'\n",
    "for the name of another file you want to work with. After we call open(),\n",
    "an object representing the file and its contents is assigned to the variable\n",
    "file_object **#2**. We again use the with syntax to let Python open and close\n",
    "the file properly. To examine the file’s contents, we work through each line\n",
    "in the file by looping over the file object **#3**.\n",
    "\n",
    "When we print each line, we find even more blank lines:\n",
    "```\n",
    "3.1415926535\n",
    " 8979323846\n",
    " 2643383279\n",
    " ```\n",
    "These blank lines appear because an invisible newline character is at\n",
    "the end of each line in the text file. The print function adds its own newline each time we call it, so we end up with two newline characters at the\n",
    "end of each line: one from the file and one from print(). Using rstrip()\n",
    "on each line in the print() call eliminates these extra blank lines:"
   ]
  },
  {
   "cell_type": "code",
   "execution_count": null,
   "metadata": {
    "id": "vjtb35MlbAbF"
   },
   "outputs": [],
   "source": [
    "filename = 'pi_digits.txt'\n",
    "\n",
    "with open(filename) as file_object:\n",
    "  for line in file_object:\n",
    "    print(line.rstrip())"
   ]
  },
  {
   "cell_type": "markdown",
   "metadata": {
    "id": "-p_82F5vbC0W"
   },
   "source": [
    "Now the output matches the contents of the file once again:\n",
    "```\n",
    "3.1415926535\n",
    " 8979323846\n",
    " 2643383279\n",
    " ```"
   ]
  },
  {
   "cell_type": "markdown",
   "metadata": {
    "id": "7WSx42b-bGht"
   },
   "source": [
    "### Making a List of Lines from a File\n",
    "When you use with, the file object returned by open() is only available inside\n",
    "the with block that contains it. If you want to retain access to a file’s contents outside the with block, you can store the file’s lines in a list inside the\n",
    "block and then work with that list. You can process parts of the file immediately and postpone some processing for later in the program.\n",
    "\n",
    "The following example stores the lines of pi_digits.txt in a list inside the\n",
    "with block and then prints the lines outside the with block:\n"
   ]
  },
  {
   "cell_type": "code",
   "execution_count": null,
   "metadata": {
    "id": "JhrDpbcAbRWU"
   },
   "outputs": [],
   "source": [
    "filename = 'pi_digits.txt'\n",
    "\n",
    "with open(filename) as file_object:\n",
    "    lines = file_object.readlines()   #1\n",
    "for line in lines:    #2\n",
    "    print(line.rstrip())"
   ]
  },
  {
   "cell_type": "markdown",
   "metadata": {
    "id": "Ft19ftx9bgzs"
   },
   "source": [
    "At **#1** the readlines() method takes each line from the file and stores it\n",
    "in a list. This list is then assigned to lines, which we can continue to work\n",
    "with after the with block ends. At **#2** we use a simple for loop to print each\n",
    "line from lines. Because each item in lines corresponds to each line in the\n",
    "file, the output matches the contents of the file exactly"
   ]
  },
  {
   "cell_type": "markdown",
   "metadata": {
    "id": "hFfqXQh9bmxc"
   },
   "source": [
    "### Working with a File’s Contents\n",
    "After you’ve read a file into memory, you can do whatever you want with\n",
    "that data, so let’s briefly explore the digits of pi. First, we’ll attempt to build\n",
    "a single string containing all the digits in the file with no whitespace in it:"
   ]
  },
  {
   "cell_type": "code",
   "execution_count": null,
   "metadata": {
    "id": "UtGntacNbqBS"
   },
   "outputs": [],
   "source": [
    "filename = 'pi_digits.txt'\n",
    "with open(filename) as file_object:\n",
    "  lines = file_object.readlines()\n",
    "\n",
    "pi_string = ''    #1\n",
    "for line in lines:    #2\n",
    "    pi_string += line.rstrip()\n",
    "\n",
    "print(pi_string)    #3\n",
    "print(len(pi_string))"
   ]
  },
  {
   "cell_type": "markdown",
   "metadata": {
    "id": "Fd8UOMBjb1mT"
   },
   "source": [
    "We start by opening the file and storing each line of digits in a list, just\n",
    "as we did in the previous example. At **#1** we create a variable, pi_string, to\n",
    "hold the digits of pi. We then create a loop that adds each line of digits to\n",
    "pi_string and removes the newline character from each line **#2**. At **#3** we\n",
    "print this string and also show how long the string is:\n",
    "```\n",
    "3.1415926535 8979323846 2643383279\n",
    "36\n",
    "```\n",
    "The variable pi_string contains the whitespace that was on the left\n",
    "side of the digits in each line, but we can get rid of that by using strip()\n",
    "instead of rstrip():\n"
   ]
  },
  {
   "cell_type": "code",
   "execution_count": null,
   "metadata": {
    "id": "pXkrZM6wb_5D"
   },
   "outputs": [],
   "source": [
    "--snip--\n",
    "for line in lines:\n",
    "  pi_string += line.strip()\n",
    "\n",
    "print(pi_string)\n",
    "print(len(pi_string))"
   ]
  },
  {
   "cell_type": "markdown",
   "metadata": {
    "id": "-Q5gfWqocCsr"
   },
   "source": [
    "Now we have a string containing pi to 30 decimal places. The string\n",
    "is 32 characters long because it also includes the leading 3 and a decimal\n",
    "point:\n",
    "```\n",
    "3.141592653589793238462643383279\n",
    "32\n",
    "```"
   ]
  },
  {
   "cell_type": "markdown",
   "metadata": {
    "id": "RMm-ijCAcHSz"
   },
   "source": [
    "### **Note**\n",
    "When Python reads from a text file, it interprets all text in the file as a string. If you\n",
    "read in a number and want to work with that value in a numerical context, you’ll\n",
    "have to convert it to an integer using the int() function or convert it to a float using\n",
    "the float() function."
   ]
  },
  {
   "cell_type": "markdown",
   "metadata": {
    "id": "F4q70hrVcNij"
   },
   "source": [
    "### Large Files: One Million Digits\n",
    "So far we’ve focused on analyzing a text file that contains only three lines,\n",
    "but the code in these examples would work just as well on much larger\n",
    "files. If we start with a text file that contains pi to 1,000,000 decimal places\n",
    "instead of just 30, we can create a single string containing all these digits.\n",
    "We don’t need to change our program at all except to pass it a different file.\n",
    "We’ll also print just the first 50 decimal places, so we don’t have to watch a\n",
    "million digits scroll by in the terminal:"
   ]
  },
  {
   "cell_type": "code",
   "execution_count": null,
   "metadata": {
    "id": "bweI9PrzcRTz"
   },
   "outputs": [],
   "source": [
    "filename = 'pi_million_digits.txt'\n",
    "with open(filename) as file_object:\n",
    "  lines = file_object.readlines()\n",
    "\n",
    "pi_string = ''\n",
    "for line in lines:\n",
    "  pi_string += line.strip()\n",
    "\n",
    "print(f\"{pi_string[:52]}...\")\n",
    "print(len(pi_string))"
   ]
  },
  {
   "cell_type": "markdown",
   "metadata": {
    "id": "QyAJSlK6cczD"
   },
   "source": [
    "The output shows that we do indeed have a string containing pi to\n",
    "1,000,000 decimal places:\n",
    "```\n",
    "3.14159265358979323846264338327950288419716939937510...\n",
    "1000002\n",
    "```\n",
    "Python has no inherent limit to how much data you can work with; you\n",
    "can work with as much data as your system’s memory can handle."
   ]
  },
  {
   "cell_type": "markdown",
   "metadata": {
    "id": "CYbep8CXcfVa"
   },
   "source": [
    "### Is Your Birthday Contained in Pi?\n",
    "I’ve always been curious to know if my birthday appears anywhere in the\n",
    "digits of pi. Let’s use the program we just wrote to find out if someone’s\n",
    "birthday appears anywhere in the first million digits of pi. We can do this\n",
    "by expressing each birthday as a string of digits and seeing if that string\n",
    "appears anywhere in pi_string:"
   ]
  },
  {
   "cell_type": "code",
   "execution_count": null,
   "metadata": {
    "id": "zijNKZiec3za"
   },
   "outputs": [],
   "source": [
    "--snip--\n",
    "for line in lines:\n",
    "    pi_string += line.strip()\n",
    "\n",
    "birthday = input(\"Enter your birthday, in the form mmddyy: \")   #1\n",
    "if birthday in pi_string:   #2\n",
    "    print(\"Your birthday appears in the first million digits of pi!\")\n",
    "else:\n",
    "    print(\"Your birthday does not appear in the first million digits of pi.\")"
   ]
  },
  {
   "cell_type": "markdown",
   "metadata": {
    "id": "C0aTEb75dK0k"
   },
   "source": [
    "At **#1** we prompt for the user’s birthday, and then at **#2** we check if that\n",
    "string is in pi_string. Let’s try it:\n",
    "```\n",
    "Enter your birthdate, in the form mmddyy: 120372\n",
    "Your birthday appears in the first million digits of pi!\n",
    "```\n",
    "My birthday does appear in the digits of pi! Once you’ve read from a\n",
    "file, you can analyze its contents in just about any way you can imagine."
   ]
  },
  {
   "cell_type": "markdown",
   "metadata": {
    "id": "1t3GnBBgdbw7"
   },
   "source": [
    "================================================================================\n",
    "#### **TRY IT YOURSELF**\n",
    "**10-1. Learning Python**: Open a blank file in your text editor and write a few\n",
    "lines summarizing what you’ve learned about Python so far. Start each line\n",
    "with the phrase In Python you can. . . . Save the file as learning_python.txt in\n",
    "the same directory as your exercises from this chapter. Write a program that\n",
    "reads the file and prints what you wrote three times. Print the contents once by\n",
    "reading in the entire file, once by looping over the file object, and once by storing the lines in a list and then working with them outside the with block.\n",
    "\n",
    "**10-2. Learning C**: You can use the replace() method to replace any word in a\n",
    "string with a different word. Here’s a quick example showing how to replace\n",
    "'dog' with 'cat' in a sentence:\n",
    "```\n",
    "message = \"I really like dogs.\"\n",
    "print(message.replace('dog', 'cat'))\n",
    "'I really like cats.'\n",
    "```\n",
    "Read in each line from the file you just created, learning_python.txt, and\n",
    "replace the word Python with the name of another language, such as C. Print\n",
    "each modified line to the screen."
   ]
  }
 ],
 "metadata": {
  "colab": {
   "authorship_tag": "ABX9TyMJFIW8CfYSbQ/7VI7IPQr0",
   "provenance": []
  },
  "kernelspec": {
   "display_name": "Python 3",
   "name": "python3"
  },
  "language_info": {
   "name": "python"
  }
 },
 "nbformat": 4,
 "nbformat_minor": 0
}
